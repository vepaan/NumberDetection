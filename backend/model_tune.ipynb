{
 "cells": [
  {
   "cell_type": "code",
   "execution_count": 3,
   "metadata": {},
   "outputs": [
    {
     "name": "stdout",
     "output_type": "stream",
     "text": [
      "weights and biases imported from file\n"
     ]
    }
   ],
   "source": [
    "import pandas as pd \n",
    "import numpy as np \n",
    "import pickle\n",
    "from matplotlib import pyplot as plt\n",
    "\n",
    "def load_weights(file_path):\n",
    "    with open('weights.pkl', 'rb') as f:\n",
    "        params = pickle.load(f)\n",
    "    print('weights and biases imported from file')\n",
    "    return params['W1'], params['b1'], params['W2'], params['b2']\n",
    "\n",
    "W1, b1, W2, b2 = load_weights('weights.pkl')"
   ]
  },
  {
   "cell_type": "code",
   "execution_count": 11,
   "metadata": {},
   "outputs": [],
   "source": [
    "'''Getting data from finetune.csv'''\n",
    "\n",
    "data = pd.read_csv('../data/finetune.csv', header=None)\n",
    "\n",
    "data = np.array(data)\n",
    "m, n = data.shape\n",
    "np.random.shuffle(data) # shuffle before splitting into dev and training sets\n",
    "\n",
    "tenpercent = len(data) - int(0.9*len(data))\n",
    "\n",
    "data_dev = data[0:tenpercent].T\n",
    "Y_dev = data_dev[0]\n",
    "X_dev = data_dev[1:n]\n",
    "\n",
    "data_train = data[tenpercent:m].T\n",
    "Y_train = data_train[0]\n",
    "X_train = data_train[1:n]\n",
    "_,m_train = X_train.shape"
   ]
  },
  {
   "cell_type": "code",
   "execution_count": 16,
   "metadata": {},
   "outputs": [
    {
     "name": "stdout",
     "output_type": "stream",
     "text": [
      "Training data shape: (784, 3)\n",
      "Dev data shape: (784, 1)\n"
     ]
    }
   ],
   "source": [
    "'''Getting data from mongodb'''\n",
    "from pymongo import MongoClient\n",
    "from dotenv import load_dotenv\n",
    "import os\n",
    "\n",
    "load_dotenv()\n",
    "MONGO_URI = os.getenv(\"MONGO_URI\", 'mongodb://localhost:27017/')\n",
    "client = MongoClient(MONGO_URI)\n",
    "db = client[\"finetune\"]\n",
    "collection = db[\"finetune_data\"]\n",
    "\n",
    "def load_data_from_mongo():\n",
    "    data = list(collection.find())\n",
    "    images = np.array([np.array(doc['image']) for doc in data]).T\n",
    "    labels = np.array([doc['label'] for doc in data])\n",
    "\n",
    "    indices = np.random.permutation(images.shape[1])\n",
    "    images = images[:, indices]\n",
    "    labels = labels[indices]\n",
    "\n",
    "    split = int(0.9 * images.shape[1])\n",
    "    X_train, X_dev = images[:, :split], images[:, split:]\n",
    "    Y_train, Y_dev = labels[:split], labels[split:]\n",
    "\n",
    "    return X_train, Y_train, X_dev, Y_dev\n",
    "\n",
    "X_train, Y_train, X_dev, Y_dev = load_data_from_mongo()\n",
    "\n",
    "print(f\"Training data shape: {X_train.shape}\")\n",
    "print(f\"Dev data shape: {X_dev.shape}\")"
   ]
  },
  {
   "cell_type": "code",
   "execution_count": 65,
   "metadata": {},
   "outputs": [],
   "source": [
    "def ReLU(z):\n",
    "    return np.maximum(0, z)\n",
    "\n",
    "def ReLU_deriv(z):\n",
    "    return z > 0\n",
    "\n",
    "def softmax(z):\n",
    "    exp_z = np.exp(z - np.max(z, axis=0, keepdims=True)) #for numerical stability\n",
    "    return exp_z / np.sum(exp_z, axis=0, keepdims=True)\n",
    "\n",
    "def forward_prop(W1, b1, W2, b2, X):\n",
    "    Z1 = W1.dot(X) + b1\n",
    "    A1 = ReLU(Z1)\n",
    "    Z2 = W2.dot(A1) + b2\n",
    "    A2 = softmax(Z2)\n",
    "    return Z1, A1, Z2, A2\n",
    "\n",
    "def one_hot(Y, num_classes=10):\n",
    "    one_hot_Y = np.zeros((Y.size, num_classes))\n",
    "    one_hot_Y[np.arange(Y.size), Y] = 1\n",
    "    return one_hot_Y.T\n",
    "\n",
    "def backward_prop(Z1, A1, Z2, A2, W1, W2, X, Y):\n",
    "    m = X.shape[1]\n",
    "    one_hot_Y = one_hot(Y, num_classes=A2.shape[0])\n",
    "\n",
    "    dZ2 = A2 - one_hot_Y\n",
    "    dW2 = (1 / m) * dZ2.dot(A1.T)\n",
    "    db2 = (1 / m) * np.sum(dZ2, axis=1, keepdims=True)\n",
    "    dZ1 = W2.T.dot(dZ2) * ReLU_deriv(Z1)\n",
    "    dW1 = (1 / m) * dZ1.dot(X.T)\n",
    "    db1 = (1 / m) * np.sum(dZ1, axis=1, keepdims=True)\n",
    "    \n",
    "    return dW1, db1, dW2, db2\n",
    "\n",
    "def update_params(W1, b1, W2, b2, dW1, db1, dW2, db2, alpha):\n",
    "    W1 -= alpha * dW1\n",
    "    b1 -= alpha * db1\n",
    "    W2 -= alpha * dW2\n",
    "    b2 -= alpha * db2\n",
    "    return W1, b1, W2, b2\n",
    "\n",
    "# Helper functions\n",
    "def get_predictions(A2):\n",
    "    return np.argmax(A2, axis=0)\n",
    "\n",
    "def get_accuracy(predictions, Y):\n",
    "    return np.sum(predictions == Y) / Y.size"
   ]
  },
  {
   "cell_type": "code",
   "execution_count": 66,
   "metadata": {},
   "outputs": [],
   "source": [
    "def fine_tune(W1, b1, W2, b2, X_train, y_train, X_dev, y_dev, alpha, iterations):\n",
    "\n",
    "    for i in range(iterations):\n",
    "\n",
    "        Z1, A1, Z2, A2 = forward_prop(W1, b1, W2, b2, X_train)\n",
    "        \n",
    "        dW1, db1, dW2, db2 = backward_prop(Z1, A1, Z2, A2, W1, W2, X_train, y_train)\n",
    "        \n",
    "        W1, b1, W2, b2 = update_params(W1, b1, W2, b2, dW1, db1, dW2, db2, alpha)\n",
    "        \n",
    "        if i % 1 == 0:\n",
    "            train_preds = get_predictions(A2)\n",
    "            train_acc = get_accuracy(train_preds, y_train)\n",
    "            \n",
    "            _, _, _, dev_A2 = forward_prop(W1, b1, W2, b2, X_dev)\n",
    "            dev_preds = get_predictions(dev_A2)\n",
    "            dev_acc = get_accuracy(dev_preds, y_dev)\n",
    "            \n",
    "            print(f\"Iteration {i}: Train Accuracy: {train_acc:.4f}, Dev Accuracy: {dev_acc:.4f}\")\n",
    "    return W1, b1, W2, b2"
   ]
  },
  {
   "cell_type": "code",
   "execution_count": 67,
   "metadata": {},
   "outputs": [],
   "source": [
    "Y_train = Y_train.astype(int)\n",
    "Y_dev = Y_dev.astype(int)"
   ]
  },
  {
   "cell_type": "code",
   "execution_count": 70,
   "metadata": {},
   "outputs": [
    {
     "name": "stdout",
     "output_type": "stream",
     "text": [
      "Iteration 0: Train Accuracy: 0.7500, Dev Accuracy: 0.3333\n",
      "Iteration 1: Train Accuracy: 0.7500, Dev Accuracy: 0.3333\n",
      "Iteration 2: Train Accuracy: 0.7500, Dev Accuracy: 0.3333\n",
      "Iteration 3: Train Accuracy: 0.7500, Dev Accuracy: 0.3333\n",
      "Iteration 4: Train Accuracy: 0.7500, Dev Accuracy: 0.3333\n",
      "Iteration 5: Train Accuracy: 0.7500, Dev Accuracy: 0.3333\n",
      "Iteration 6: Train Accuracy: 0.7500, Dev Accuracy: 0.3333\n",
      "Iteration 7: Train Accuracy: 0.7500, Dev Accuracy: 0.3333\n",
      "Iteration 8: Train Accuracy: 0.7500, Dev Accuracy: 0.3333\n",
      "Iteration 9: Train Accuracy: 0.7500, Dev Accuracy: 0.3333\n"
     ]
    }
   ],
   "source": [
    "alpha = 0.01\n",
    "iterations = 10\n",
    "W1, b1, W2, b2 = fine_tune(W1, b1, W2, b2, X_train, Y_train, X_dev, Y_dev, alpha, iterations)"
   ]
  },
  {
   "cell_type": "code",
   "execution_count": 71,
   "metadata": {},
   "outputs": [
    {
     "name": "stdout",
     "output_type": "stream",
     "text": [
      "Fine-tuning complete. Parameters saved.\n"
     ]
    }
   ],
   "source": [
    "fine_tuned_params = {'W1': W1, 'b1': b1, 'W2': W2, 'b2': b2}\n",
    "with open('finetuned_weights.pkl', 'wb') as f:\n",
    "    pickle.dump(fine_tuned_params, f)\n",
    "\n",
    "print(\"Fine-tuning complete. Parameters saved.\")"
   ]
  },
  {
   "cell_type": "code",
   "execution_count": 72,
   "metadata": {},
   "outputs": [],
   "source": [
    "#for testing purposes only\n",
    "def make_predictions(X, W1, b1, W2, b2):\n",
    "    _, _, _, A2 = forward_prop(W1, b1, W2, b2, X)\n",
    "    predictions = get_predictions(A2)\n",
    "    return predictions\n",
    "\n",
    "def test_prediction(index, W1, b1, W2, b2):\n",
    "    current_image = X_train[:, index, None]\n",
    "    prediction = make_predictions(X_train[:, index, None], W1, b1, W2, b2)\n",
    "    label = Y_train[index]\n",
    "    print(\"Prediction: \", prediction)\n",
    "    print(\"Label: \", label)\n",
    "    \n",
    "    current_image = current_image.reshape((28, 28)) * 255\n",
    "    plt.gray()\n",
    "    plt.imshow(current_image, interpolation='nearest')\n",
    "    plt.show()"
   ]
  },
  {
   "cell_type": "code",
   "execution_count": 79,
   "metadata": {},
   "outputs": [
    {
     "name": "stdout",
     "output_type": "stream",
     "text": [
      "Prediction:  [5]\n",
      "Label:  3\n"
     ]
    },
    {
     "data": {
      "image/png": "[encoded data removed]",
      "text/plain": [
       "<Figure size 640x480 with 1 Axes>"
      ]
     },
     "metadata": {},
     "output_type": "display_data"
    }
   ],
   "source": [
    "test_prediction(19, W1, b1, W2, b2)"
   ]
  }
 ],
 "metadata": {
  "kernelspec": {
   "display_name": "Python 3",
   "language": "python",
   "name": "python3"
  },
  "language_info": {
   "codemirror_mode": {
    "name": "ipython",
    "version": 3
   },
   "file_extension": ".py",
   "mimetype": "text/x-python",
   "name": "python",
   "nbconvert_exporter": "python",
   "pygments_lexer": "ipython3",
   "version": "3.12.3"
  }
 },
 "nbformat": 4,
 "nbformat_minor": 2
}
