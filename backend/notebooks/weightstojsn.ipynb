{
 "cells": [
  {
   "cell_type": "code",
   "execution_count": 3,
   "metadata": {},
   "outputs": [
    {
     "name": "stdout",
     "output_type": "stream",
     "text": [
      "Converted and saved weights to weights.json.\n"
     ]
    }
   ],
   "source": [
    "import pickle\n",
    "import json\n",
    "import numpy as np\n",
    "\n",
    "def convert_to_serializable(obj):\n",
    "    \"\"\"Recursively convert numpy arrays to lists.\"\"\"\n",
    "    if isinstance(obj, np.ndarray):\n",
    "        return obj.tolist()\n",
    "    elif isinstance(obj, dict):\n",
    "        return {key: convert_to_serializable(value) for key, value in obj.items()}\n",
    "    elif isinstance(obj, list):\n",
    "        return [convert_to_serializable(element) for element in obj]\n",
    "    return obj\n",
    "\n",
    "# Load the pickle file\n",
    "with open('../weights/finetuned_weights.pkl', 'rb') as f:\n",
    "    params = pickle.load(f)\n",
    "\n",
    "# Convert to a JSON-serializable format\n",
    "serializable_params = convert_to_serializable(params)\n",
    "\n",
    "# Save as a JSON file\n",
    "with open('../weights/weights.json', 'w') as f:\n",
    "    json.dump(serializable_params, f)\n",
    "\n",
    "print(\"Converted and saved weights to weights.json.\")\n"
   ]
  }
 ],
 "metadata": {
  "kernelspec": {
   "display_name": "Python 3",
   "language": "python",
   "name": "python3"
  },
  "language_info": {
   "codemirror_mode": {
    "name": "ipython",
    "version": 3
   },
   "file_extension": ".py",
   "mimetype": "text/x-python",
   "name": "python",
   "nbconvert_exporter": "python",
   "pygments_lexer": "ipython3",
   "version": "3.12.3"
  }
 },
 "nbformat": 4,
 "nbformat_minor": 2
}
