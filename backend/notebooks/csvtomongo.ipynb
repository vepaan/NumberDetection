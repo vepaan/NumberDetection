{
 "cells": [
  {
   "cell_type": "code",
   "execution_count": 14,
   "metadata": {},
   "outputs": [
    {
     "name": "stdout",
     "output_type": "stream",
     "text": [
      "CSV data loaded successfully.\n"
     ]
    }
   ],
   "source": [
    "import numpy as np\n",
    "from pymongo import MongoClient\n",
    "import os\n",
    "from dotenv import load_dotenv\n",
    "import csv\n",
    "import pandas as pd\n",
    "\n",
    "load_dotenv()\n",
    "MONGO_URI = os.getenv(\"MONGO_URI\", 'mongodb://localhost:27017/')\n",
    "client = MongoClient(MONGO_URI)\n",
    "db = client[\"finetune\"]\n",
    "collection = db[\"finetune_data\"]\n",
    "\n",
    "try:\n",
    "    data = pd.read_csv('../data/finetune.csv', header=None)\n",
    "    data = np.array(data)\n",
    "    print(\"CSV data loaded successfully.\")\n",
    "except Exception as e:\n",
    "    print(f\"Error loading CSV: {e}\")"
   ]
  },
  {
   "cell_type": "code",
   "execution_count": 15,
   "metadata": {},
   "outputs": [],
   "source": [
    "def save_image_to_mongo(img_array, label):\n",
    "    try:\n",
    "        document = {\n",
    "            'image': img_array.tolist(),\n",
    "            'label': int(label)\n",
    "        }\n",
    "        collection.insert_one(document)\n",
    "        print(\"Data successfully saved to mongo\")\n",
    "    except Exception as e:\n",
    "        print(f'Error saving data to Mongo: {e}')"
   ]
  },
  {
   "cell_type": "code",
   "execution_count": 16,
   "metadata": {},
   "outputs": [
    {
     "name": "stdout",
     "output_type": "stream",
     "text": [
      "Data successfully saved to mongo\n",
      "Data successfully saved to mongo\n",
      "Data successfully saved to mongo\n",
      "Data successfully saved to mongo\n",
      "Data successfully saved to mongo\n",
      "Data successfully saved to mongo\n",
      "Data successfully saved to mongo\n",
      "Data successfully saved to mongo\n",
      "Data successfully saved to mongo\n",
      "Data successfully saved to mongo\n",
      "Data successfully saved to mongo\n",
      "Data successfully saved to mongo\n",
      "Data successfully saved to mongo\n",
      "Data successfully saved to mongo\n",
      "Data successfully saved to mongo\n",
      "Data successfully saved to mongo\n",
      "Data successfully saved to mongo\n",
      "Data successfully saved to mongo\n",
      "Data successfully saved to mongo\n",
      "Data successfully saved to mongo\n",
      "Data successfully saved to mongo\n",
      "Data successfully saved to mongo\n",
      "Data successfully saved to mongo\n",
      "Data successfully saved to mongo\n",
      "Data successfully saved to mongo\n",
      "Data successfully saved to mongo\n",
      "Data successfully saved to mongo\n"
     ]
    }
   ],
   "source": [
    "for i, row in enumerate(data):\n",
    "    try:\n",
    "        label = row[0]\n",
    "        img_array = row[1:]\n",
    "        save_image_to_mongo(img_array, label)\n",
    "    except Exception as e:\n",
    "        print(f\"Error processing row {i}: {e}\")"
   ]
  }
 ],
 "metadata": {
  "kernelspec": {
   "display_name": "Python 3",
   "language": "python",
   "name": "python3"
  },
  "language_info": {
   "codemirror_mode": {
    "name": "ipython",
    "version": 3
   },
   "file_extension": ".py",
   "mimetype": "text/x-python",
   "name": "python",
   "nbconvert_exporter": "python",
   "pygments_lexer": "ipython3",
   "version": "3.12.3"
  }
 },
 "nbformat": 4,
 "nbformat_minor": 2
}
